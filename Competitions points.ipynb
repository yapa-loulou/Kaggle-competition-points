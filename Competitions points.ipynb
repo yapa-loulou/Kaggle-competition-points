{
 "cells": [
  {
   "cell_type": "markdown",
   "metadata": {},
   "source": [
    "# An analysis of competition points"
   ]
  },
  {
   "cell_type": "markdown",
   "metadata": {},
   "source": [
    "Everybody wants to be top on Kaggle ! Well, if you have managed to be an expert in some category (competitions, kernels, datasets of discussion), you may have taken a look here :"
   ]
  },
  {
   "cell_type": "markdown",
   "metadata": {},
   "source": [
    "https://www.kaggle.com/progression"
   ]
  },
  {
   "cell_type": "markdown",
   "metadata": {},
   "source": [
    "As many of you may have noticed, our competition points decrease over time (like all other points in any ranking category). However, they are also a function of a multitude of parameters depending on the competition, your team, and your performance. I have found this formula :"
   ]
  },
  {
   "cell_type": "markdown",
   "metadata": {
    "ExecuteTime": {
     "end_time": "2020-04-29T20:28:41.129598Z",
     "start_time": "2020-04-29T20:28:41.124611Z"
    }
   },
   "source": [
    "<img src=\"compet_points.png\" width=1000 height=200 />"
   ]
  },
  {
   "cell_type": "markdown",
   "metadata": {},
   "source": [
    "Note that you can find more details about the formula here : https://medium.com/kaggle-blog"
   ]
  },
  {
   "cell_type": "markdown",
   "metadata": {},
   "source": [
    "I decided to do this little notebook so you can have an actual idea of what has an impact on the final points you get."
   ]
  },
  {
   "cell_type": "markdown",
   "metadata": {},
   "source": [
    "## Univariate Analysis"
   ]
  },
  {
   "cell_type": "markdown",
   "metadata": {},
   "source": [
    "### Build our points function"
   ]
  },
  {
   "cell_type": "code",
   "execution_count": 25,
   "metadata": {
    "ExecuteTime": {
     "end_time": "2020-04-29T19:50:05.075941Z",
     "start_time": "2020-04-29T19:50:05.071973Z"
    }
   },
   "outputs": [],
   "source": [
    "import numpy as np\n",
    "import matplotlib.pyplot as plt\n",
    "from matplotlib import cm"
   ]
  },
  {
   "cell_type": "code",
   "execution_count": 2,
   "metadata": {
    "ExecuteTime": {
     "end_time": "2020-04-29T19:31:29.180297Z",
     "start_time": "2020-04-29T19:31:29.175280Z"
    }
   },
   "outputs": [],
   "source": [
    "N_team_mate = 4\n",
    "rank = 100\n",
    "N_teams = 2000"
   ]
  },
  {
   "cell_type": "code",
   "execution_count": 63,
   "metadata": {
    "ExecuteTime": {
     "end_time": "2020-04-29T20:30:52.171455Z",
     "start_time": "2020-04-29T20:30:52.163475Z"
    }
   },
   "outputs": [
    {
     "name": "stdout",
     "output_type": "stream",
     "text": [
      "In a competition of 2000 teams where your team of 4 people is ranked 100, your points at day 0 are 1002\n"
     ]
    },
    {
     "data": {
      "text/plain": [
       "1001.7660361440045"
      ]
     },
     "execution_count": 63,
     "metadata": {},
     "output_type": "execute_result"
    }
   ],
   "source": [
    "def points(rank=rank, t=0, N_team_mate=N_team_mate, N_teams=N_teams, verbose=0):\n",
    "#     assert (N_team_mate>0) & (N_teams>0) & (rank>0)\n",
    "    coeffs = [100000/np.sqrt(N_team_mate)]\n",
    "    coeffs.append(rank**(-0.75))\n",
    "    coeffs.append(np.log10(1+np.log10(N_teams)))\n",
    "    coeffs.append(np.exp(-t/500))\n",
    "    res = np.prod(coeffs)\n",
    "#     res= int(round(res))\n",
    "    if verbose:\n",
    "        print(f'In a competition of {N_teams} teams where your team of {N_team_mate} people is ranked {rank}, your points at day {t} are {int(round(res))}')\n",
    "    return res\n",
    "points(verbose=1)"
   ]
  },
  {
   "cell_type": "markdown",
   "metadata": {},
   "source": [
    "### Ranking"
   ]
  },
  {
   "cell_type": "code",
   "execution_count": 24,
   "metadata": {
    "ExecuteTime": {
     "end_time": "2020-04-29T19:48:14.973971Z",
     "start_time": "2020-04-29T19:48:14.868181Z"
    }
   },
   "outputs": [
    {
     "data": {
      "image/png": "[encoded data removed]",
      "text/plain": [
       "<Figure size 432x288 with 1 Axes>"
      ]
     },
     "metadata": {
      "needs_background": "light"
     },
     "output_type": "display_data"
    }
   ],
   "source": [
    "R = np.arange(1, N_teams//3)\n",
    "P = [points(rank=r, verbose=0) for r in R]\n",
    "plt.plot(figsize=(8,8))\n",
    "plt.plot(R, P, 'ro', markersize=2)\n",
    "plt.title('Points function of ranking')\n",
    "plt.show()"
   ]
  },
  {
   "cell_type": "markdown",
   "metadata": {},
   "source": [
    "Ranking has a huge impact on your score if you're fighting to win 1 or 2 places when you're in the top 50, not that much if you're lower."
   ]
  },
  {
   "cell_type": "markdown",
   "metadata": {},
   "source": [
    "### Number of competitive teams"
   ]
  },
  {
   "cell_type": "code",
   "execution_count": 20,
   "metadata": {
    "ExecuteTime": {
     "end_time": "2020-04-29T19:45:37.089447Z",
     "start_time": "2020-04-29T19:45:36.919028Z"
    }
   },
   "outputs": [
    {
     "data": {
      "image/png": "[encoded data removed]",
      "text/plain": [
       "<Figure size 432x288 with 1 Axes>"
      ]
     },
     "metadata": {
      "needs_background": "light"
     },
     "output_type": "display_data"
    }
   ],
   "source": [
    "N = np.arange(1,5000)\n",
    "P = [points(N_teams=n, verbose=0) for n in N]\n",
    "plt.plot(figsize=(8,8))\n",
    "plt.plot(N, P, 'ro', markersize=1)\n",
    "plt.title('Points function of number of competitive teams')\n",
    "plt.show()"
   ]
  },
  {
   "cell_type": "markdown",
   "metadata": {},
   "source": [
    "Don't count to much on the increasing number of teams to win points if there are already a thousand or more of them."
   ]
  },
  {
   "cell_type": "markdown",
   "metadata": {},
   "source": [
    "### Size of team"
   ]
  },
  {
   "cell_type": "code",
   "execution_count": 21,
   "metadata": {
    "ExecuteTime": {
     "end_time": "2020-04-29T19:46:13.579723Z",
     "start_time": "2020-04-29T19:46:13.456295Z"
    }
   },
   "outputs": [
    {
     "data": {
      "image/png": "[encoded data removed]",
      "text/plain": [
       "<Figure size 432x288 with 1 Axes>"
      ]
     },
     "metadata": {
      "needs_background": "light"
     },
     "output_type": "display_data"
    }
   ],
   "source": [
    "N = np.arange(1,5)\n",
    "P = [points(N_team_mate=n, verbose=0) for n in N]\n",
    "plt.plot(figsize=(8,8))\n",
    "plt.plot(N, P, 'ro', markersize=5)\n",
    "plt.title('Points function of size of team')\n",
    "plt.show()"
   ]
  },
  {
   "cell_type": "markdown",
   "metadata": {},
   "source": [
    "Wow, this actually is a very important factor ! From the formula, you could already have noticed that from being alone in a team and being in a team of 4 your score is divided by $2=\\sqrt4$, but it is even more visible here..."
   ]
  },
  {
   "cell_type": "markdown",
   "metadata": {},
   "source": [
    "### Time elapsed"
   ]
  },
  {
   "cell_type": "code",
   "execution_count": 23,
   "metadata": {
    "ExecuteTime": {
     "end_time": "2020-04-29T19:47:43.938384Z",
     "start_time": "2020-04-29T19:47:43.839607Z"
    }
   },
   "outputs": [
    {
     "data": {
      "image/png": "[encoded data removed]",
      "text/plain": [
       "<Figure size 432x288 with 1 Axes>"
      ]
     },
     "metadata": {
      "needs_background": "light"
     },
     "output_type": "display_data"
    }
   ],
   "source": [
    "T = np.arange(0,1000)\n",
    "P = [points(t=t, verbose=0) for t in T]\n",
    "plt.plot(figsize=(8,8))\n",
    "plt.plot(T, P, 'ro', markersize=1)\n",
    "plt.title('Points function of days')\n",
    "plt.show()"
   ]
  },
  {
   "cell_type": "markdown",
   "metadata": {},
   "source": [
    "The points decay in time to keep the rankings up to date (but don't worry, you keep your medals). Here you can see that every year (365 days) you lose around the half of your points : "
   ]
  },
  {
   "cell_type": "code",
   "execution_count": 64,
   "metadata": {
    "ExecuteTime": {
     "end_time": "2020-04-29T20:37:16.535626Z",
     "start_time": "2020-04-29T20:37:16.530606Z"
    }
   },
   "outputs": [
    {
     "data": {
      "text/plain": [
       "0.48190899009020244"
      ]
     },
     "execution_count": 64,
     "metadata": {},
     "output_type": "execute_result"
    }
   ],
   "source": [
    "np.exp(-365/500)"
   ]
  },
  {
   "cell_type": "markdown",
   "metadata": {},
   "source": [
    "## The importance of team size"
   ]
  },
  {
   "cell_type": "markdown",
   "metadata": {},
   "source": [
    "I want to highlight this very important factor that people tend to forget."
   ]
  },
  {
   "cell_type": "code",
   "execution_count": 58,
   "metadata": {
    "ExecuteTime": {
     "end_time": "2020-04-29T20:18:04.402115Z",
     "start_time": "2020-04-29T20:18:04.272463Z"
    }
   },
   "outputs": [
    {
     "data": {
      "image/png": "[encoded data removed]",
      "text/plain": [
       "<Figure size 720x576 with 1 Axes>"
      ]
     },
     "metadata": {
      "needs_background": "light"
     },
     "output_type": "display_data"
    }
   ],
   "source": [
    "N1 = np.arange(1,5)\n",
    "N=2000\n",
    "R = np.arange(10,400)\n",
    "fig = plt.figure(figsize=(10,8))\n",
    "list_of_P = {}\n",
    "for n in N1:\n",
    "    P = points(rank=R, N_team_mate=n, N_teams=N)\n",
    "    list_of_P[n] = P\n",
    "    plt.plot(R, P, label=f'team size of {n}')\n",
    "plt.axhline(y=1000, linewidth=2, c='grey', ls='--')\n",
    "plt.axvline(x=100, linewidth=2, c='black', ls='--')\n",
    "plt.legend()\n",
    "plt.show()"
   ]
  },
  {
   "cell_type": "code",
   "execution_count": 60,
   "metadata": {
    "ExecuteTime": {
     "end_time": "2020-04-29T20:20:12.634303Z",
     "start_time": "2020-04-29T20:20:12.626343Z"
    }
   },
   "outputs": [
    {
     "name": "stdout",
     "output_type": "stream",
     "text": [
      "For team size 1, you get 1000 points at rank 243\n",
      "For team size 1, at rank 100 you get 2004 points\n",
      "----------------------------------------------------------------------------------------------------\n",
      "For team size 2, you get 1000 points at rank 149\n",
      "For team size 2, at rank 100 you get 1417 points\n",
      "----------------------------------------------------------------------------------------------------\n",
      "For team size 3, you get 1000 points at rank 111\n",
      "For team size 3, at rank 100 you get 1157 points\n",
      "----------------------------------------------------------------------------------------------------\n",
      "For team size 4, you get 1000 points at rank 90\n",
      "For team size 4, at rank 100 you get 1002 points\n",
      "----------------------------------------------------------------------------------------------------\n"
     ]
    }
   ],
   "source": [
    "for n, P in list_of_P.items():\n",
    "    print(f'For team size {n}, you get 1000 points at rank {np.argmin([abs(p-1000) for p in P])}')\n",
    "    print(f'For team size {n}, at rank 100 you get {int(round(points(rank=100, N_team_mate=n, N_teams=N)))} points')\n",
    "    print('-'*100)"
   ]
  },
  {
   "cell_type": "markdown",
   "metadata": {},
   "source": [
    "So in conclusion, don't try to have the biggest team possible..."
   ]
  }
 ],
 "metadata": {
  "kernelspec": {
   "display_name": "Python 3",
   "language": "python",
   "name": "python3"
  },
  "language_info": {
   "codemirror_mode": {
    "name": "ipython",
    "version": 3
   },
   "file_extension": ".py",
   "mimetype": "text/x-python",
   "name": "python",
   "nbconvert_exporter": "python",
   "pygments_lexer": "ipython3",
   "version": "3.8.2"
  },
  "latex_envs": {
   "LaTeX_envs_menu_present": true,
   "autoclose": false,
   "autocomplete": true,
   "bibliofile": "biblio.bib",
   "cite_by": "apalike",
   "current_citInitial": 1,
   "eqLabelWithNumbers": true,
   "eqNumInitial": 1,
   "hotkeys": {
    "equation": "Ctrl-E",
    "itemize": "Ctrl-I"
   },
   "labels_anchors": false,
   "latex_user_defs": false,
   "report_style_numbering": false,
   "user_envs_cfg": false
  },
  "toc": {
   "base_numbering": 1,
   "nav_menu": {},
   "number_sections": true,
   "sideBar": true,
   "skip_h1_title": false,
   "title_cell": "Table of Contents",
   "title_sidebar": "Contents",
   "toc_cell": false,
   "toc_position": {},
   "toc_section_display": true,
   "toc_window_display": false
  },
  "varInspector": {
   "cols": {
    "lenName": 16,
    "lenType": 16,
    "lenVar": 40
   },
   "kernels_config": {
    "python": {
     "delete_cmd_postfix": "",
     "delete_cmd_prefix": "del ",
     "library": "var_list.py",
     "varRefreshCmd": "print(var_dic_list())"
    },
    "r": {
     "delete_cmd_postfix": ") ",
     "delete_cmd_prefix": "rm(",
     "library": "var_list.r",
     "varRefreshCmd": "cat(var_dic_list()) "
    }
   },
   "types_to_exclude": [
    "module",
    "function",
    "builtin_function_or_method",
    "instance",
    "_Feature"
   ],
   "window_display": false
  }
 },
 "nbformat": 4,
 "nbformat_minor": 4
}
